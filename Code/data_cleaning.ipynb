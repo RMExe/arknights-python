{
 "cells": [
  {
   "cell_type": "markdown",
   "metadata": {},
   "source": [
    "# Data Cleaning"
   ]
  },
  {
   "cell_type": "markdown",
   "metadata": {},
   "source": [
    "## Imports"
   ]
  },
  {
   "cell_type": "code",
   "execution_count": 1,
   "metadata": {},
   "outputs": [],
   "source": [
    "import json\n",
    "from pprint import pp\n",
    "from functools import reduce\n",
    "import re"
   ]
  },
  {
   "cell_type": "markdown",
   "metadata": {},
   "source": [
    "### Read-in"
   ]
  },
  {
   "cell_type": "code",
   "execution_count": 2,
   "metadata": {},
   "outputs": [],
   "source": [
    "with open('../Data/character_table.json', encoding=\"utf-8\") as f:\n",
    "    data = json.load(f)\n",
    "    \n",
    "with open('../Data/skill_table.json', encoding=\"utf-8\") as f:\n",
    "    skill_data = json.load(f)"
   ]
  },
  {
   "cell_type": "markdown",
   "metadata": {},
   "source": [
    "## Transform"
   ]
  },
  {
   "cell_type": "code",
   "execution_count": 3,
   "metadata": {},
   "outputs": [],
   "source": [
    "cleaned_data = {}\n",
    "mapper = {\"CASTER\": \"Caster\",\n",
    "          \"MEDIC\" : \"Medic\",\n",
    "          \"PIONEER\" : \"Vanguard\",\n",
    "          \"SNIPER\": \"Sniper\",\n",
    "          \"SPECIAL\" : \"Specialist\",\n",
    "          \"SUPPORT\" : \"Supporter\",\n",
    "          \"TANK\" : \"Defender\",\n",
    "          \"WARRIOR\" : \"Guard\",\n",
    "          \"TOKEN\" : \"Summoned Unit\",\n",
    "          \"TRAP\" : \"Obstacle\"}\n",
    "\n",
    "replace_dict = {\n",
    "    \"atk\" : \"ATK\",\n",
    "    \"def\" : \"DEF\",\n",
    "    \"max hp\" : \"Max HP\",\n",
    "    \"hp\" : \"HP\",\n",
    "    \"block\" : \"Block\",\n",
    "    \"range\" : \"Range\",\n",
    "    \"\\n\" : \" \",\n",
    "    \"deployment points\" : \"Deployment Points\"\n",
    "}\n",
    "\n",
    "pattern = re.compile(r'<[^>]*>')"
   ]
  },
  {
   "cell_type": "code",
   "execution_count": 4,
   "metadata": {},
   "outputs": [],
   "source": [
    "def get_name(unit):\n",
    "    return unit[\"name\"]"
   ]
  },
  {
   "cell_type": "code",
   "execution_count": 5,
   "metadata": {},
   "outputs": [],
   "source": [
    "def get_class(unit):\n",
    "    return mapper[unit[\"profession\"]]"
   ]
  },
  {
   "cell_type": "code",
   "execution_count": 6,
   "metadata": {},
   "outputs": [],
   "source": [
    "def get_tags(unit):\n",
    "    return unit[\"tagList\"]"
   ]
  },
  {
   "cell_type": "code",
   "execution_count": 7,
   "metadata": {},
   "outputs": [],
   "source": [
    "def get_trait(unit):\n",
    "    if unit[\"description\"]:\n",
    "        return pattern.sub(\"\",unit[\"description\"])\n",
    "    else:\n",
    "        return None"
   ]
  },
  {
   "cell_type": "code",
   "execution_count": 8,
   "metadata": {},
   "outputs": [],
   "source": [
    "def get_rarity(unit):\n",
    "    return unit[\"rarity\"] + 1"
   ]
  },
  {
   "cell_type": "code",
   "execution_count": 9,
   "metadata": {},
   "outputs": [],
   "source": [
    "def get_talents(unit):\n",
    "    talent_list = unit[\"talents\"]\n",
    "    try:\n",
    "        return [{talent[\"name\"] : talent[\"description\"] for talent in talents[\"candidates\"] if talent[\"requiredPotentialRank\"] == 0} for talents in talent_list]\n",
    "    except TypeError:\n",
    "        return None"
   ]
  },
  {
   "cell_type": "code",
   "execution_count": 10,
   "metadata": {},
   "outputs": [],
   "source": [
    " def get_skills(unit):\n",
    "    skill_list = []\n",
    "    skills = [skill[\"skillId\"] for skill in unit[\"skills\"]]\n",
    "    try:\n",
    "        for i, skill in enumerate(skills):\n",
    "            name = skill_data[skill][\"levels\"][0][\"name\"]\n",
    "            bb = { row[\"key\"] : row[\"value\"] for row in skill_data[skill][\"levels\"][0][\"blackboard\"]}\n",
    "            skill_text = skill_data[skill][\"levels\"][-1][\"description\"].replace(\"-\",\"\")\n",
    "            try:\n",
    "                skill_text = reduce(lambda x,y: x.replace(y, replace_dict[y]), replace_dict, pattern.sub(\"\",skill_text.lower().replace(\":0%\",\":.0%\").format(**bb)).capitalize())\n",
    "            except KeyError:\n",
    "                skill_text = skill_subroutine(skill_text, bb)\n",
    "            unit_name = get_name(unit)\n",
    "            skill_list.append({name : skill_text.replace(unit_name.lower(),unit_name)})\n",
    "        return skill_list\n",
    "    except KeyError:\n",
    "        return None"
   ]
  },
  {
   "cell_type": "code",
   "execution_count": 11,
   "metadata": {},
   "outputs": [],
   "source": [
    "def skill_subroutine(skill_text, bb):\n",
    "    skill_pattern = re.compile(r'{[^}]*\\.')\n",
    "    dict_pattern = re.compile(r'^([^.]+\\.)')\n",
    "\n",
    "    skill_text = skill_pattern.sub(\"{\", skill_text)\n",
    "    bb = {dict_pattern.sub(\"\", key) : value for key, value in bb.items()}\n",
    "\n",
    "    return reduce(lambda x,y: x.replace(y, replace_dict[y]), replace_dict, pattern.sub(\"\",skill_text.replace(\":0%\",\":.0%\").format(**bb)))"
   ]
  },
  {
   "cell_type": "code",
   "execution_count": 12,
   "metadata": {},
   "outputs": [],
   "source": [
    "cleaned_data = {}\n",
    "for key, unit in data.items():\n",
    "    cleaned_data[get_name(unit)] = {\n",
    "        \"rarity\" : get_rarity(unit),\n",
    "        \"class\" : get_class(unit),\n",
    "        \"tags\" : get_tags(unit),\n",
    "        \"trait\" : get_trait(unit),\n",
    "        \"talents\" : get_talents(unit),\n",
    "        \"skills\" : get_skills(unit),\n",
    "        \"internal_id\" : key\n",
    "    }"
   ]
  },
  {
   "cell_type": "markdown",
   "metadata": {},
   "source": [
    "## Load"
   ]
  },
  {
   "cell_type": "code",
   "execution_count": 13,
   "metadata": {},
   "outputs": [],
   "source": [
    "with open('../Data/cleaned_characters.json', 'w') as f:\n",
    "    json.dump(cleaned_data, f)"
   ]
  }
 ],
 "metadata": {
  "kernelspec": {
   "display_name": "Python 3",
   "language": "python",
   "name": "python3"
  },
  "language_info": {
   "codemirror_mode": {
    "name": "ipython",
    "version": 3
   },
   "file_extension": ".py",
   "mimetype": "text/x-python",
   "name": "python",
   "nbconvert_exporter": "python",
   "pygments_lexer": "ipython3",
   "version": "3.8.2"
  }
 },
 "nbformat": 4,
 "nbformat_minor": 4
}
