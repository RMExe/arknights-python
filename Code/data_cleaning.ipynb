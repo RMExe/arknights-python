{
 "cells": [
  {
   "cell_type": "markdown",
   "metadata": {},
   "source": [
    "# Data Cleaning"
   ]
  },
  {
   "cell_type": "markdown",
   "metadata": {},
   "source": [
    "## Imports"
   ]
  },
  {
   "cell_type": "code",
   "execution_count": 1,
   "metadata": {},
   "outputs": [],
   "source": [
    "import json\n",
    "from pprint import pp\n",
    "import re"
   ]
  },
  {
   "cell_type": "markdown",
   "metadata": {},
   "source": [
    "### Read-in"
   ]
  },
  {
   "cell_type": "code",
   "execution_count": 12,
   "metadata": {},
   "outputs": [],
   "source": [
    "with open('../Data/character_table.json', errors='ignore') as f:\n",
    "    data = json.load(f)\n",
    "    \n",
    "with open('../Data/skill_table.json', errors='ignore') as f:\n",
    "    skill_data = json.load(f)"
   ]
  },
  {
   "cell_type": "markdown",
   "metadata": {},
   "source": [
    "## Transform"
   ]
  },
  {
   "cell_type": "code",
   "execution_count": 3,
   "metadata": {},
   "outputs": [],
   "source": [
    "cleaned_data = {}\n",
    "mapper = {\"CASTER\": \"Caster\",\n",
    "          \"MEDIC\" : \"Medic\",\n",
    "          \"PIONEER\" : \"Vanguard\",\n",
    "          \"SNIPER\": \"Sniper\",\n",
    "          \"SPECIAL\" : \"Specialist\",\n",
    "          \"SUPPORT\" : \"Supporter\",\n",
    "          \"TANK\" : \"Defender\",\n",
    "          \"WARRIOR\" : \"Guard\",\n",
    "          \"TOKEN\" : \"Summoned Unit\",\n",
    "          \"TRAP\" : \"Obstacle\"}\n",
    "pattern = re.compile(r'<[^>]*>')"
   ]
  },
  {
   "cell_type": "code",
   "execution_count": 4,
   "metadata": {},
   "outputs": [],
   "source": [
    "def get_name(unit):\n",
    "    return unit[\"name\"]"
   ]
  },
  {
   "cell_type": "code",
   "execution_count": 5,
   "metadata": {},
   "outputs": [],
   "source": [
    "def get_class(unit):\n",
    "    return mapper[unit[\"profession\"]]"
   ]
  },
  {
   "cell_type": "code",
   "execution_count": 6,
   "metadata": {},
   "outputs": [],
   "source": [
    "def get_tags(unit):\n",
    "    return unit[\"tagList\"]"
   ]
  },
  {
   "cell_type": "code",
   "execution_count": 7,
   "metadata": {},
   "outputs": [],
   "source": [
    "def get_trait(unit):\n",
    "    if unit[\"description\"]:\n",
    "        return pattern.sub(\"\",unit[\"description\"])\n",
    "    else:\n",
    "        return None"
   ]
  },
  {
   "cell_type": "code",
   "execution_count": 8,
   "metadata": {},
   "outputs": [],
   "source": [
    "def get_rarity(unit):\n",
    "    return unit[\"rarity\"] + 1"
   ]
  },
  {
   "cell_type": "code",
   "execution_count": 9,
   "metadata": {},
   "outputs": [],
   "source": [
    "def get_talents(unit):\n",
    "    talent_list = unit[\"talents\"]\n",
    "    try:\n",
    "        return [{talent[\"name\"] : talent[\"description\"] for talent in talents[\"candidates\"] if talent[\"requiredPotentialRank\"] == 0} for talents in talent_list]\n",
    "    except TypeError:\n",
    "        return None"
   ]
  },
  {
   "cell_type": "code",
   "execution_count": 10,
   "metadata": {},
   "outputs": [],
   "source": [
    "cleaned_data = {}\n",
    "for key, unit in data.items():\n",
    "    cleaned_data[get_name(unit)] = {\n",
    "        \"rarity\" : get_rarity(unit),\n",
    "        \"class\" : get_class(unit),\n",
    "        \"tags\" : get_tags(unit),\n",
    "        \"trait\" : get_trait(unit),\n",
    "        \"talents\" : get_talents(unit),\n",
    "        \"internal_id\" : key\n",
    "    }"
   ]
  },
  {
   "cell_type": "code",
   "execution_count": 22,
   "metadata": {},
   "outputs": [
    {
     "name": "stdout",
     "output_type": "stream",
     "text": [
      "skcom_quickattack[3]\n",
      "skchr_skadi_2\n",
      "skchr_skadi_3\n"
     ]
    }
   ],
   "source": [
    "for skill in data[key][\"skills\"]:\n",
    "    print(skill[\"skillId\"])"
   ]
  },
  {
   "cell_type": "code",
   "execution_count": 24,
   "metadata": {},
   "outputs": [
    {
     "data": {
      "text/plain": [
       "{'skillId': 'skchr_skadi_3',\n",
       " 'iconId': None,\n",
       " 'hidden': False,\n",
       " 'levels': [{'name': 'Tidal Elegy',\n",
       "   'rangeId': None,\n",
       "   'description': 'ATK, DEF and Max HP <@ba.vup>+{atk:0%}</>',\n",
       "   'skillType': 1,\n",
       "   'spData': {'spType': 1,\n",
       "    'levelUpCost': None,\n",
       "    'maxChargeTime': 1,\n",
       "    'spCost': 90,\n",
       "    'initSp': 50,\n",
       "    'increment': 1.0},\n",
       "   'prefabId': 'skchr_skadi_3',\n",
       "   'duration': 35.0,\n",
       "   'blackboard': [{'key': 'atk', 'value': 0.7},\n",
       "    {'key': 'def', 'value': 0.7},\n",
       "    {'key': 'max_hp', 'value': 0.7}]},\n",
       "  {'name': 'Tidal Elegy',\n",
       "   'rangeId': None,\n",
       "   'description': 'ATK, DEF and Max HP <@ba.vup>+{atk:0%}</>',\n",
       "   'skillType': 1,\n",
       "   'spData': {'spType': 1,\n",
       "    'levelUpCost': None,\n",
       "    'maxChargeTime': 1,\n",
       "    'spCost': 90,\n",
       "    'initSp': 50,\n",
       "    'increment': 1.0},\n",
       "   'prefabId': 'skchr_skadi_3',\n",
       "   'duration': 35.0,\n",
       "   'blackboard': [{'key': 'atk', 'value': 0.75},\n",
       "    {'key': 'def', 'value': 0.75},\n",
       "    {'key': 'max_hp', 'value': 0.75}]},\n",
       "  {'name': 'Tidal Elegy',\n",
       "   'rangeId': None,\n",
       "   'description': 'ATK, DEF and Max HP <@ba.vup>+{atk:0%}</>',\n",
       "   'skillType': 1,\n",
       "   'spData': {'spType': 1,\n",
       "    'levelUpCost': None,\n",
       "    'maxChargeTime': 1,\n",
       "    'spCost': 90,\n",
       "    'initSp': 50,\n",
       "    'increment': 1.0},\n",
       "   'prefabId': 'skchr_skadi_3',\n",
       "   'duration': 35.0,\n",
       "   'blackboard': [{'key': 'atk', 'value': 0.8},\n",
       "    {'key': 'def', 'value': 0.8},\n",
       "    {'key': 'max_hp', 'value': 0.8}]},\n",
       "  {'name': 'Tidal Elegy',\n",
       "   'rangeId': None,\n",
       "   'description': 'ATK, DEF and Max HP <@ba.vup>+{atk:0%}</>',\n",
       "   'skillType': 1,\n",
       "   'spData': {'spType': 1,\n",
       "    'levelUpCost': None,\n",
       "    'maxChargeTime': 1,\n",
       "    'spCost': 90,\n",
       "    'initSp': 55,\n",
       "    'increment': 1.0},\n",
       "   'prefabId': 'skchr_skadi_3',\n",
       "   'duration': 38.0,\n",
       "   'blackboard': [{'key': 'atk', 'value': 0.85},\n",
       "    {'key': 'def', 'value': 0.85},\n",
       "    {'key': 'max_hp', 'value': 0.85}]},\n",
       "  {'name': 'Tidal Elegy',\n",
       "   'rangeId': None,\n",
       "   'description': 'ATK, DEF and Max HP <@ba.vup>+{atk:0%}</>',\n",
       "   'skillType': 1,\n",
       "   'spData': {'spType': 1,\n",
       "    'levelUpCost': None,\n",
       "    'maxChargeTime': 1,\n",
       "    'spCost': 90,\n",
       "    'initSp': 55,\n",
       "    'increment': 1.0},\n",
       "   'prefabId': 'skchr_skadi_3',\n",
       "   'duration': 38.0,\n",
       "   'blackboard': [{'key': 'atk', 'value': 0.9},\n",
       "    {'key': 'def', 'value': 0.9},\n",
       "    {'key': 'max_hp', 'value': 0.9}]},\n",
       "  {'name': 'Tidal Elegy',\n",
       "   'rangeId': None,\n",
       "   'description': 'ATK, DEF and Max HP <@ba.vup>+{atk:0%}</>',\n",
       "   'skillType': 1,\n",
       "   'spData': {'spType': 1,\n",
       "    'levelUpCost': None,\n",
       "    'maxChargeTime': 1,\n",
       "    'spCost': 90,\n",
       "    'initSp': 55,\n",
       "    'increment': 1.0},\n",
       "   'prefabId': 'skchr_skadi_3',\n",
       "   'duration': 38.0,\n",
       "   'blackboard': [{'key': 'atk', 'value': 0.95},\n",
       "    {'key': 'def', 'value': 0.95},\n",
       "    {'key': 'max_hp', 'value': 0.95}]},\n",
       "  {'name': 'Tidal Elegy',\n",
       "   'rangeId': None,\n",
       "   'description': 'ATK, DEF and Max HP <@ba.vup>+{atk:0%}</>',\n",
       "   'skillType': 1,\n",
       "   'spData': {'spType': 1,\n",
       "    'levelUpCost': None,\n",
       "    'maxChargeTime': 1,\n",
       "    'spCost': 90,\n",
       "    'initSp': 60,\n",
       "    'increment': 1.0},\n",
       "   'prefabId': 'skchr_skadi_3',\n",
       "   'duration': 41.0,\n",
       "   'blackboard': [{'key': 'atk', 'value': 1.0},\n",
       "    {'key': 'def', 'value': 1.0},\n",
       "    {'key': 'max_hp', 'value': 1.0}]},\n",
       "  {'name': 'Tidal Elegy',\n",
       "   'rangeId': None,\n",
       "   'description': 'ATK, DEF and Max HP <@ba.vup>+{atk:0%}</>',\n",
       "   'skillType': 1,\n",
       "   'spData': {'spType': 1,\n",
       "    'levelUpCost': None,\n",
       "    'maxChargeTime': 1,\n",
       "    'spCost': 90,\n",
       "    'initSp': 63,\n",
       "    'increment': 1.0},\n",
       "   'prefabId': 'skchr_skadi_3',\n",
       "   'duration': 44.0,\n",
       "   'blackboard': [{'key': 'atk', 'value': 1.1},\n",
       "    {'key': 'def', 'value': 1.1},\n",
       "    {'key': 'max_hp', 'value': 1.1}]},\n",
       "  {'name': 'Tidal Elegy',\n",
       "   'rangeId': None,\n",
       "   'description': 'ATK, DEF and Max HP <@ba.vup>+{atk:0%}</>',\n",
       "   'skillType': 1,\n",
       "   'spData': {'spType': 1,\n",
       "    'levelUpCost': None,\n",
       "    'maxChargeTime': 1,\n",
       "    'spCost': 90,\n",
       "    'initSp': 66,\n",
       "    'increment': 1.0},\n",
       "   'prefabId': 'skchr_skadi_3',\n",
       "   'duration': 47.0,\n",
       "   'blackboard': [{'key': 'atk', 'value': 1.2},\n",
       "    {'key': 'def', 'value': 1.2},\n",
       "    {'key': 'max_hp', 'value': 1.2}]},\n",
       "  {'name': 'Tidal Elegy',\n",
       "   'rangeId': None,\n",
       "   'description': 'ATK, DEF and Max HP <@ba.vup>+{atk:0%}</>',\n",
       "   'skillType': 1,\n",
       "   'spData': {'spType': 1,\n",
       "    'levelUpCost': None,\n",
       "    'maxChargeTime': 1,\n",
       "    'spCost': 90,\n",
       "    'initSp': 70,\n",
       "    'increment': 1.0},\n",
       "   'prefabId': 'skchr_skadi_3',\n",
       "   'duration': 50.0,\n",
       "   'blackboard': [{'key': 'atk', 'value': 1.3},\n",
       "    {'key': 'def', 'value': 1.3},\n",
       "    {'key': 'max_hp', 'value': 1.3}]}]}"
      ]
     },
     "execution_count": 24,
     "metadata": {},
     "output_type": "execute_result"
    }
   ],
   "source": [
    "skill_data[\"skchr_skadi_3\"]"
   ]
  },
  {
   "cell_type": "markdown",
   "metadata": {},
   "source": [
    "## Load"
   ]
  },
  {
   "cell_type": "code",
   "execution_count": 11,
   "metadata": {},
   "outputs": [],
   "source": [
    "with open('../Data/cleaned_characters.json', 'w') as f:\n",
    "    json.dump(cleaned_data, f)"
   ]
  }
 ],
 "metadata": {
  "kernelspec": {
   "display_name": "Python 3",
   "language": "python",
   "name": "python3"
  },
  "language_info": {
   "codemirror_mode": {
    "name": "ipython",
    "version": 3
   },
   "file_extension": ".py",
   "mimetype": "text/x-python",
   "name": "python",
   "nbconvert_exporter": "python",
   "pygments_lexer": "ipython3",
   "version": "3.8.2"
  }
 },
 "nbformat": 4,
 "nbformat_minor": 4
}
