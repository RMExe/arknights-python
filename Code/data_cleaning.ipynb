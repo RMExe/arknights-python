{
 "cells": [
  {
   "cell_type": "markdown",
   "metadata": {},
   "source": [
    "# Data Cleaning"
   ]
  },
  {
   "cell_type": "markdown",
   "metadata": {},
   "source": [
    "## Imports"
   ]
  },
  {
   "cell_type": "code",
   "execution_count": 6,
   "metadata": {},
   "outputs": [],
   "source": [
    "import json\n",
    "from pprint import pp\n",
    "import re"
   ]
  },
  {
   "cell_type": "markdown",
   "metadata": {},
   "source": [
    "### Read-in"
   ]
  },
  {
   "cell_type": "code",
   "execution_count": 7,
   "metadata": {},
   "outputs": [],
   "source": [
    "with open('../Data/character_table.json', errors='ignore') as f:\n",
    "    data = json.load(f)"
   ]
  },
  {
   "cell_type": "code",
   "execution_count": 8,
   "metadata": {},
   "outputs": [
    {
     "data": {
      "text/plain": [
       "dict_keys(['char_285_medic2', 'char_286_cast3', 'char_502_nblade', 'char_500_noirc', 'char_503_rang', 'char_501_durin', 'char_009_12fce', 'char_123_fang', 'char_240_wyvern', 'char_192_falco', 'char_208_melan', 'char_281_popka', 'char_209_ardign', 'char_122_beagle', 'char_284_spot', 'char_124_kroos', 'char_211_adnach', 'char_121_lava', 'char_120_hibisc', 'char_212_ansel', 'char_210_stward', 'char_278_orchid', 'char_141_nights', 'char_109_fmout', 'char_253_greyy', 'char_235_jesica', 'char_126_shotst', 'char_118_yuki', 'char_198_blackd', 'char_149_scave', 'char_290_vigna', 'char_130_doberm', 'char_289_gyuki', 'char_193_frostl', 'char_127_estell', 'char_185_frncat', 'char_237_gravel', 'char_236_rope', 'char_117_myrrh', 'char_187_ccheal', 'char_181_flower', 'char_199_yak', 'char_150_snakek', 'char_196_sunbr', 'char_110_deepcl', 'char_183_skgoat', 'char_277_sqrrel', 'char_128_plosis', 'char_115_headbr', 'char_102_texas', 'char_308_swire', 'char_106_franka', 'char_155_tiger', 'char_140_whitew', 'char_143_ghost', 'char_129_bluep', 'char_204_platnm', 'char_219_meteo', 'char_002_amiya', 'char_166_skfire', 'char_242_otter', 'char_108_silent', 'char_171_bldsk', 'char_148_nearl', 'char_144_red', 'char_107_liskam', 'char_201_moeshd', 'char_163_hpsts', 'char_145_prove', 'char_158_milu', 'char_173_slchan', 'char_174_slbell', 'char_195_glassb', 'char_101_sora', 'char_215_mantic', 'char_241_panda', 'char_103_angel', 'char_112_siege', 'char_134_ifrit', 'char_180_amgoat', 'char_291_aglina', 'char_147_shining', 'char_179_cgbird', 'char_136_hsguma', 'char_202_demkni', 'char_172_svrash', 'char_010_chen', 'token_10000_silent_healrb', 'token_10001_deepcl_tentac', 'token_10003_cgbird_bird', 'token_10004_otter_motter', 'token_10005_mgllan_drone1', 'token_10005_mgllan_drone2', 'token_10005_mgllan_drone3', 'trap_001_crate', 'trap_002_emp', 'trap_003_gate', 'trap_005_sensor', 'trap_006_antidr', 'trap_007_ballis', 'char_230_savage', 'char_282_catap', 'char_283_midn', 'char_137_brownb', 'char_164_nightm', 'char_220_grani', 'char_263_skadi'])"
      ]
     },
     "execution_count": 8,
     "metadata": {},
     "output_type": "execute_result"
    }
   ],
   "source": [
    "data.keys()"
   ]
  },
  {
   "cell_type": "markdown",
   "metadata": {},
   "source": [
    "## Reshape"
   ]
  },
  {
   "cell_type": "code",
   "execution_count": 9,
   "metadata": {},
   "outputs": [],
   "source": [
    "test_unit = data['char_172_svrash']"
   ]
  },
  {
   "cell_type": "code",
   "execution_count": 10,
   "metadata": {},
   "outputs": [
    {
     "name": "stdout",
     "output_type": "stream",
     "text": [
      "{'name': 'SilverAsh',\n",
      " 'description': 'Can launch <@ba.kw>Ranged Attacks</> that deal 80% of normal '\n",
      "                'ATK',\n",
      " 'canUseGeneralPotentialItem': True,\n",
      " 'potentialItemId': 'p_char_172_svrash',\n",
      " 'team': 6,\n",
      " 'displayNumber': 'JC01',\n",
      " 'tokenKey': None,\n",
      " 'appellation': ' ',\n",
      " 'position': 'MELEE',\n",
      " 'tagList': ['DPS', 'Support'],\n",
      " 'displayLogo': 'logo_kjerag',\n",
      " 'itemUsage': 'SilverAsh, President of Karlan Trade CO., LTD, has signed the '\n",
      "              'contract with Rhodes Island and is ready to join the field.',\n",
      " 'itemDesc': 'Let your guard down. There are no traps in the conditions she '\n",
      "             \"offer. Well, you won't know even if there is one.\",\n",
      " 'itemObtainApproach': 'Recruitment & Headhunting',\n",
      " 'maxPotentialLevel': 5,\n",
      " 'rarity': 5,\n",
      " 'profession': 'WARRIOR',\n",
      " 'trait': {'candidates': [{'unlockCondition': {'phase': 0, 'level': 1},\n",
      "                           'requiredPotentialRank': 0,\n",
      "                           'blackboard': [{'key': 'atk_scale', 'value': 0.8}],\n",
      "                           'overrideDescripton': None}]},\n",
      " 'phases': [{'characterPrefabKey': 'char_172_svrash',\n",
      "             'rangeId': '2-3',\n",
      "             'maxLevel': 50,\n",
      "             'attributesKeyFrames': [{'level': 1,\n",
      "                                      'data': {'maxHp': 1075,\n",
      "                                               'atk': 297,\n",
      "                                               'def': 189,\n",
      "                                               'magicResistance': 5.0,\n",
      "                                               'cost': 18,\n",
      "                                               'blockCnt': 2,\n",
      "                                               'moveSpeed': 1.0,\n",
      "                                               'attackSpeed': 100.0,\n",
      "                                               'baseAttackTime': 1.3,\n",
      "                                               'respawnTime': 70,\n",
      "                                               'hpRecoveryPerSec': 0.0,\n",
      "                                               'spRecoveryPerSec': 1.0,\n",
      "                                               'maxDeployCount': 1,\n",
      "                                               'maxDeckStackCnt': 0,\n",
      "                                               'tauntLevel': 0,\n",
      "                                               'massLevel': 0,\n",
      "                                               'baseForceLevel': 0,\n",
      "                                               'stunImmune': False,\n",
      "                                               'silenceImmune': False}},\n",
      "                                     {'level': 50,\n",
      "                                      'data': {'maxHp': 1536,\n",
      "                                               'atk': 444,\n",
      "                                               'def': 259,\n",
      "                                               'magicResistance': 5.0,\n",
      "                                               'cost': 18,\n",
      "                                               'blockCnt': 2,\n",
      "                                               'moveSpeed': 1.0,\n",
      "                                               'attackSpeed': 100.0,\n",
      "                                               'baseAttackTime': 1.3,\n",
      "                                               'respawnTime': 70,\n",
      "                                               'hpRecoveryPerSec': 0.0,\n",
      "                                               'spRecoveryPerSec': 1.0,\n",
      "                                               'maxDeployCount': 1,\n",
      "                                               'maxDeckStackCnt': 0,\n",
      "                                               'tauntLevel': 0,\n",
      "                                               'massLevel': 0,\n",
      "                                               'baseForceLevel': 0,\n",
      "                                               'stunImmune': False,\n",
      "                                               'silenceImmune': False}}],\n",
      "             'evolveCost': None},\n",
      "            {'characterPrefabKey': 'char_172_svrash',\n",
      "             'rangeId': '3-12',\n",
      "             'maxLevel': 80,\n",
      "             'attributesKeyFrames': [{'level': 1,\n",
      "                                      'data': {'maxHp': 1536,\n",
      "                                               'atk': 444,\n",
      "                                               'def': 259,\n",
      "                                               'magicResistance': 10.0,\n",
      "                                               'cost': 20,\n",
      "                                               'blockCnt': 2,\n",
      "                                               'moveSpeed': 1.0,\n",
      "                                               'attackSpeed': 100.0,\n",
      "                                               'baseAttackTime': 1.3,\n",
      "                                               'respawnTime': 70,\n",
      "                                               'hpRecoveryPerSec': 0.0,\n",
      "                                               'spRecoveryPerSec': 1.0,\n",
      "                                               'maxDeployCount': 1,\n",
      "                                               'maxDeckStackCnt': 0,\n",
      "                                               'tauntLevel': 0,\n",
      "                                               'massLevel': 0,\n",
      "                                               'baseForceLevel': 0,\n",
      "                                               'stunImmune': False,\n",
      "                                               'silenceImmune': False}},\n",
      "                                     {'level': 80,\n",
      "                                      'data': {'maxHp': 2022,\n",
      "                                               'atk': 577,\n",
      "                                               'def': 329,\n",
      "                                               'magicResistance': 10.0,\n",
      "                                               'cost': 20,\n",
      "                                               'blockCnt': 2,\n",
      "                                               'moveSpeed': 1.0,\n",
      "                                               'attackSpeed': 100.0,\n",
      "                                               'baseAttackTime': 1.3,\n",
      "                                               'respawnTime': 70,\n",
      "                                               'hpRecoveryPerSec': 0.0,\n",
      "                                               'spRecoveryPerSec': 1.0,\n",
      "                                               'maxDeployCount': 1,\n",
      "                                               'maxDeckStackCnt': 0,\n",
      "                                               'tauntLevel': 0,\n",
      "                                               'massLevel': 0,\n",
      "                                               'baseForceLevel': 0,\n",
      "                                               'stunImmune': False,\n",
      "                                               'silenceImmune': False}}],\n",
      "             'evolveCost': [{'id': '3221', 'count': 5, 'type': 'MATERIAL'},\n",
      "                            {'id': '30032', 'count': 8, 'type': 'MATERIAL'},\n",
      "                            {'id': '30062', 'count': 3, 'type': 'MATERIAL'}]},\n",
      "            {'characterPrefabKey': 'char_172_svrash',\n",
      "             'rangeId': '3-12',\n",
      "             'maxLevel': 90,\n",
      "             'attributesKeyFrames': [{'level': 1,\n",
      "                                      'data': {'maxHp': 2022,\n",
      "                                               'atk': 577,\n",
      "                                               'def': 329,\n",
      "                                               'magicResistance': 10.0,\n",
      "                                               'cost': 20,\n",
      "                                               'blockCnt': 2,\n",
      "                                               'moveSpeed': 1.0,\n",
      "                                               'attackSpeed': 100.0,\n",
      "                                               'baseAttackTime': 1.3,\n",
      "                                               'respawnTime': 70,\n",
      "                                               'hpRecoveryPerSec': 0.0,\n",
      "                                               'spRecoveryPerSec': 1.0,\n",
      "                                               'maxDeployCount': 1,\n",
      "                                               'maxDeckStackCnt': 0,\n",
      "                                               'tauntLevel': 0,\n",
      "                                               'massLevel': 0,\n",
      "                                               'baseForceLevel': 0,\n",
      "                                               'stunImmune': False,\n",
      "                                               'silenceImmune': False}},\n",
      "                                     {'level': 90,\n",
      "                                      'data': {'maxHp': 2560,\n",
      "                                               'atk': 713,\n",
      "                                               'def': 397,\n",
      "                                               'magicResistance': 10.0,\n",
      "                                               'cost': 20,\n",
      "                                               'blockCnt': 2,\n",
      "                                               'moveSpeed': 1.0,\n",
      "                                               'attackSpeed': 100.0,\n",
      "                                               'baseAttackTime': 1.3,\n",
      "                                               'respawnTime': 70,\n",
      "                                               'hpRecoveryPerSec': 0.0,\n",
      "                                               'spRecoveryPerSec': 1.0,\n",
      "                                               'maxDeployCount': 1,\n",
      "                                               'maxDeckStackCnt': 0,\n",
      "                                               'tauntLevel': 0,\n",
      "                                               'massLevel': 0,\n",
      "                                               'baseForceLevel': 0,\n",
      "                                               'stunImmune': False,\n",
      "                                               'silenceImmune': False}}],\n",
      "             'evolveCost': [{'id': '3223', 'count': 4, 'type': 'MATERIAL'},\n",
      "                            {'id': '30135', 'count': 4, 'type': 'MATERIAL'},\n",
      "                            {'id': '30074', 'count': 6, 'type': 'MATERIAL'}]}],\n",
      " 'skills': [{'skillId': 'skchr_svrash_1',\n",
      "             'overridePrefabKey': None,\n",
      "             'overrideTokenKey': None,\n",
      "             'levelUpCostCond': [{'unlockCond': {'phase': 2, 'level': 1},\n",
      "                                  'lvlUpTime': 28800,\n",
      "                                  'levelUpCost': [{'id': '3303',\n",
      "                                                   'count': 6,\n",
      "                                                   'type': 'MATERIAL'},\n",
      "                                                  {'id': '30044',\n",
      "                                                   'count': 4,\n",
      "                                                   'type': 'MATERIAL'},\n",
      "                                                  {'id': '30023',\n",
      "                                                   'count': 4,\n",
      "                                                   'type': 'MATERIAL'}]},\n",
      "                                 {'unlockCond': {'phase': 2, 'level': 1},\n",
      "                                  'lvlUpTime': 57600,\n",
      "                                  'levelUpCost': [{'id': '3303',\n",
      "                                                   'count': 12,\n",
      "                                                   'type': 'MATERIAL'},\n",
      "                                                  {'id': '30074',\n",
      "                                                   'count': 4,\n",
      "                                                   'type': 'MATERIAL'},\n",
      "                                                  {'id': '30054',\n",
      "                                                   'count': 8,\n",
      "                                                   'type': 'MATERIAL'}]},\n",
      "                                 {'unlockCond': {'phase': 2, 'level': 1},\n",
      "                                  'lvlUpTime': 86400,\n",
      "                                  'levelUpCost': [{'id': '3303',\n",
      "                                                   'count': 15,\n",
      "                                                   'type': 'MATERIAL'},\n",
      "                                                  {'id': '30135',\n",
      "                                                   'count': 6,\n",
      "                                                   'type': 'MATERIAL'},\n",
      "                                                  {'id': '30074',\n",
      "                                                   'count': 7,\n",
      "                                                   'type': 'MATERIAL'}]}],\n",
      "             'unlockCond': {'phase': 0, 'level': 1}},\n",
      "            {'skillId': 'skchr_svrash_2',\n",
      "             'overridePrefabKey': None,\n",
      "             'overrideTokenKey': None,\n",
      "             'levelUpCostCond': [{'unlockCond': {'phase': 2, 'level': 1},\n",
      "                                  'lvlUpTime': 28800,\n",
      "                                  'levelUpCost': [{'id': '3303',\n",
      "                                                   'count': 6,\n",
      "                                                   'type': 'MATERIAL'},\n",
      "                                                  {'id': '30054',\n",
      "                                                   'count': 4,\n",
      "                                                   'type': 'MATERIAL'},\n",
      "                                                  {'id': '30033',\n",
      "                                                   'count': 6,\n",
      "                                                   'type': 'MATERIAL'}]},\n",
      "                                 {'unlockCond': {'phase': 2, 'level': 1},\n",
      "                                  'lvlUpTime': 57600,\n",
      "                                  'levelUpCost': [{'id': '3303',\n",
      "                                                   'count': 12,\n",
      "                                                   'type': 'MATERIAL'},\n",
      "                                                  {'id': '30084',\n",
      "                                                   'count': 4,\n",
      "                                                   'type': 'MATERIAL'},\n",
      "                                                  {'id': '30064',\n",
      "                                                   'count': 5,\n",
      "                                                   'type': 'MATERIAL'}]},\n",
      "                                 {'unlockCond': {'phase': 2, 'level': 1},\n",
      "                                  'lvlUpTime': 86400,\n",
      "                                  'levelUpCost': [{'id': '3303',\n",
      "                                                   'count': 15,\n",
      "                                                   'type': 'MATERIAL'},\n",
      "                                                  {'id': '30135',\n",
      "                                                   'count': 6,\n",
      "                                                   'type': 'MATERIAL'},\n",
      "                                                  {'id': '30024',\n",
      "                                                   'count': 6,\n",
      "                                                   'type': 'MATERIAL'}]}],\n",
      "             'unlockCond': {'phase': 1, 'level': 1}},\n",
      "            {'skillId': 'skchr_svrash_3',\n",
      "             'overridePrefabKey': None,\n",
      "             'overrideTokenKey': None,\n",
      "             'levelUpCostCond': [{'unlockCond': {'phase': 2, 'level': 1},\n",
      "                                  'lvlUpTime': 28800,\n",
      "                                  'levelUpCost': [{'id': '3303',\n",
      "                                                   'count': 6,\n",
      "                                                   'type': 'MATERIAL'},\n",
      "                                                  {'id': '30064',\n",
      "                                                   'count': 3,\n",
      "                                                   'type': 'MATERIAL'},\n",
      "                                                  {'id': '30043',\n",
      "                                                   'count': 4,\n",
      "                                                   'type': 'MATERIAL'}]},\n",
      "                                 {'unlockCond': {'phase': 2, 'level': 1},\n",
      "                                  'lvlUpTime': 57600,\n",
      "                                  'levelUpCost': [{'id': '3303',\n",
      "                                                   'count': 12,\n",
      "                                                   'type': 'MATERIAL'},\n",
      "                                                  {'id': '30094',\n",
      "                                                   'count': 4,\n",
      "                                                   'type': 'MATERIAL'},\n",
      "                                                  {'id': '30074',\n",
      "                                                   'count': 9,\n",
      "                                                   'type': 'MATERIAL'}]},\n",
      "                                 {'unlockCond': {'phase': 2, 'level': 1},\n",
      "                                  'lvlUpTime': 86400,\n",
      "                                  'levelUpCost': [{'id': '3303',\n",
      "                                                   'count': 15,\n",
      "                                                   'type': 'MATERIAL'},\n",
      "                                                  {'id': '30125',\n",
      "                                                   'count': 6,\n",
      "                                                   'type': 'MATERIAL'},\n",
      "                                                  {'id': '30024',\n",
      "                                                   'count': 5,\n",
      "                                                   'type': 'MATERIAL'}]}],\n",
      "             'unlockCond': {'phase': 2, 'level': 1}}],\n",
      " 'talents': [{'candidates': [{'unlockCondition': {'phase': 1, 'level': 1},\n",
      "                              'requiredPotentialRank': 0,\n",
      "                              'prefabKey': '1',\n",
      "                              'name': 'Leader',\n",
      "                              'description': \"ATK +5%; All allies' \"\n",
      "                                             'Redeployment Time -5%',\n",
      "                              'rangeId': None,\n",
      "                              'blackboard': [{'key': 'atk', 'value': 0.05},\n",
      "                                             {'key': 'respawn_time',\n",
      "                                              'value': -0.05}]},\n",
      "                             {'unlockCondition': {'phase': 1, 'level': 1},\n",
      "                              'requiredPotentialRank': 4,\n",
      "                              'prefabKey': '1',\n",
      "                              'name': 'Leader',\n",
      "                              'description': 'ATK +7% <@ba.talpu>(+2%)</>; All '\n",
      "                                             \"allies' Redeployment Time -7% \"\n",
      "                                             '<@ba.talpu>(+2%)</>',\n",
      "                              'rangeId': None,\n",
      "                              'blackboard': [{'key': 'atk', 'value': 0.07},\n",
      "                                             {'key': 'respawn_time',\n",
      "                                              'value': -0.07}]},\n",
      "                             {'unlockCondition': {'phase': 2, 'level': 1},\n",
      "                              'requiredPotentialRank': 0,\n",
      "                              'prefabKey': '1',\n",
      "                              'name': 'Leader',\n",
      "                              'description': \"ATK +10%; All allies' \"\n",
      "                                             'Redeployment Time -10%',\n",
      "                              'rangeId': None,\n",
      "                              'blackboard': [{'key': 'atk', 'value': 0.1},\n",
      "                                             {'key': 'respawn_time',\n",
      "                                              'value': -0.1}]},\n",
      "                             {'unlockCondition': {'phase': 2, 'level': 1},\n",
      "                              'requiredPotentialRank': 4,\n",
      "                              'prefabKey': '1',\n",
      "                              'name': 'Leader',\n",
      "                              'description': 'ATK +12% <@ba.talpu>(+2%)</>; '\n",
      "                                             \"All allies' Redeployment Time \"\n",
      "                                             '-12% <@ba.talpu>(+2%)</>',\n",
      "                              'rangeId': None,\n",
      "                              'blackboard': [{'key': 'atk', 'value': 0.12},\n",
      "                                             {'key': 'respawn_time',\n",
      "                                              'value': -0.12}]}]},\n",
      "             {'candidates': [{'unlockCondition': {'phase': 2, 'level': 1},\n",
      "                              'requiredPotentialRank': 0,\n",
      "                              'prefabKey': '2',\n",
      "                              'name': 'Eagle Eyes',\n",
      "                              'description': 'Reveals invisible enemies within '\n",
      "                                             'range',\n",
      "                              'rangeId': None,\n",
      "                              'blackboard': []}]}],\n",
      " 'potentialRanks': [{'type': 0,\n",
      "                     'description': 'DP Cost -1',\n",
      "                     'buff': {'attributes': {'abnormalFlags': None,\n",
      "                                             'attributeModifiers': [{'attributeType': 4,\n",
      "                                                                     'formulaItem': 0,\n",
      "                                                                     'value': -1.0,\n",
      "                                                                     'loadFromBlackboard': False,\n",
      "                                                                     'fetchBaseValueFromSourceEntity': False}]}},\n",
      "                     'equivalentCost': None},\n",
      "                    {'type': 0,\n",
      "                     'description': 'Redeployment Time -4 sec',\n",
      "                     'buff': {'attributes': {'abnormalFlags': None,\n",
      "                                             'attributeModifiers': [{'attributeType': 21,\n",
      "                                                                     'formulaItem': 0,\n",
      "                                                                     'value': -4.0,\n",
      "                                                                     'loadFromBlackboard': False,\n",
      "                                                                     'fetchBaseValueFromSourceEntity': False}]}},\n",
      "                     'equivalentCost': None},\n",
      "                    {'type': 0,\n",
      "                     'description': 'ATK +26',\n",
      "                     'buff': {'attributes': {'abnormalFlags': None,\n",
      "                                             'attributeModifiers': [{'attributeType': 1,\n",
      "                                                                     'formulaItem': 0,\n",
      "                                                                     'value': 26.0,\n",
      "                                                                     'loadFromBlackboard': False,\n",
      "                                                                     'fetchBaseValueFromSourceEntity': False}]}},\n",
      "                     'equivalentCost': None},\n",
      "                    {'type': 1,\n",
      "                     'description': 'First Talent Effect Up',\n",
      "                     'buff': None,\n",
      "                     'equivalentCost': None},\n",
      "                    {'type': 0,\n",
      "                     'description': 'DP Cost -1',\n",
      "                     'buff': {'attributes': {'abnormalFlags': None,\n",
      "                                             'attributeModifiers': [{'attributeType': 4,\n",
      "                                                                     'formulaItem': 0,\n",
      "                                                                     'value': -1.0,\n",
      "                                                                     'loadFromBlackboard': False,\n",
      "                                                                     'fetchBaseValueFromSourceEntity': False}]}},\n",
      "                     'equivalentCost': None}],\n",
      " 'favorKeyFrames': [{'level': 0,\n",
      "                     'data': {'maxHp': 0,\n",
      "                              'atk': 0,\n",
      "                              'def': 0,\n",
      "                              'magicResistance': 0.0,\n",
      "                              'cost': 0,\n",
      "                              'blockCnt': 0,\n",
      "                              'moveSpeed': 0.0,\n",
      "                              'attackSpeed': 0.0,\n",
      "                              'baseAttackTime': 0.0,\n",
      "                              'respawnTime': 0,\n",
      "                              'hpRecoveryPerSec': 0.0,\n",
      "                              'spRecoveryPerSec': 0.0,\n",
      "                              'maxDeployCount': 0,\n",
      "                              'maxDeckStackCnt': 0,\n",
      "                              'tauntLevel': 0,\n",
      "                              'massLevel': 0,\n",
      "                              'baseForceLevel': 0,\n",
      "                              'stunImmune': False,\n",
      "                              'silenceImmune': False}},\n",
      "                    {'level': 50,\n",
      "                     'data': {'maxHp': 0,\n",
      "                              'atk': 50,\n",
      "                              'def': 50,\n",
      "                              'magicResistance': 0.0,\n",
      "                              'cost': 0,\n",
      "                              'blockCnt': 0,\n",
      "                              'moveSpeed': 0.0,\n",
      "                              'attackSpeed': 0.0,\n",
      "                              'baseAttackTime': 0.0,\n",
      "                              'respawnTime': 0,\n",
      "                              'hpRecoveryPerSec': 0.0,\n",
      "                              'spRecoveryPerSec': 0.0,\n",
      "                              'maxDeployCount': 0,\n",
      "                              'maxDeckStackCnt': 0,\n",
      "                              'tauntLevel': 0,\n",
      "                              'massLevel': 0,\n",
      "                              'baseForceLevel': 0,\n",
      "                              'stunImmune': False,\n",
      "                              'silenceImmune': False}}],\n",
      " 'allSkillLvlup': [{'unlockCond': {'phase': 0, 'level': 1},\n",
      "                    'lvlUpCost': [{'id': '3301',\n",
      "                                   'count': 5,\n",
      "                                   'type': 'MATERIAL'}]},\n",
      "                   {'unlockCond': {'phase': 0, 'level': 1},\n",
      "                    'lvlUpCost': [{'id': '3301',\n",
      "                                   'count': 5,\n",
      "                                   'type': 'MATERIAL'},\n",
      "                                  {'id': '30031',\n",
      "                                   'count': 6,\n",
      "                                   'type': 'MATERIAL'},\n",
      "                                  {'id': '30041',\n",
      "                                   'count': 4,\n",
      "                                   'type': 'MATERIAL'}]},\n",
      "                   {'unlockCond': {'phase': 0, 'level': 1},\n",
      "                    'lvlUpCost': [{'id': '3302',\n",
      "                                   'count': 8,\n",
      "                                   'type': 'MATERIAL'},\n",
      "                                  {'id': '30042',\n",
      "                                   'count': 4,\n",
      "                                   'type': 'MATERIAL'}]},\n",
      "                   {'unlockCond': {'phase': 1, 'level': 1},\n",
      "                    'lvlUpCost': [{'id': '3302',\n",
      "                                   'count': 8,\n",
      "                                   'type': 'MATERIAL'},\n",
      "                                  {'id': '30052',\n",
      "                                   'count': 4,\n",
      "                                   'type': 'MATERIAL'},\n",
      "                                  {'id': '30012',\n",
      "                                   'count': 5,\n",
      "                                   'type': 'MATERIAL'}]},\n",
      "                   {'unlockCond': {'phase': 1, 'level': 1},\n",
      "                    'lvlUpCost': [{'id': '3302',\n",
      "                                   'count': 8,\n",
      "                                   'type': 'MATERIAL'},\n",
      "                                  {'id': '30023',\n",
      "                                   'count': 7,\n",
      "                                   'type': 'MATERIAL'}]},\n",
      "                   {'unlockCond': {'phase': 1, 'level': 1},\n",
      "                    'lvlUpCost': [{'id': '3303',\n",
      "                                   'count': 8,\n",
      "                                   'type': 'MATERIAL'},\n",
      "                                  {'id': '30033',\n",
      "                                   'count': 4,\n",
      "                                   'type': 'MATERIAL'},\n",
      "                                  {'id': '30083',\n",
      "                                   'count': 5,\n",
      "                                   'type': 'MATERIAL'}]}]}\n"
     ]
    }
   ],
   "source": [
    "pp(test_unit)"
   ]
  },
  {
   "cell_type": "code",
   "execution_count": 11,
   "metadata": {},
   "outputs": [
    {
     "data": {
      "text/plain": [
       "'SilverAsh'"
      ]
     },
     "execution_count": 11,
     "metadata": {},
     "output_type": "execute_result"
    }
   ],
   "source": [
    "test_unit[\"name\"]"
   ]
  },
  {
   "cell_type": "code",
   "execution_count": 12,
   "metadata": {},
   "outputs": [
    {
     "data": {
      "text/plain": [
       "{'CASTER',\n",
       " 'MEDIC',\n",
       " 'PIONEER',\n",
       " 'SNIPER',\n",
       " 'SPECIAL',\n",
       " 'SUPPORT',\n",
       " 'TANK',\n",
       " 'TOKEN',\n",
       " 'TRAP',\n",
       " 'WARRIOR'}"
      ]
     },
     "execution_count": 12,
     "metadata": {},
     "output_type": "execute_result"
    }
   ],
   "source": [
    "set([value[\"profession\"] for _, value in data.items()])"
   ]
  },
  {
   "cell_type": "code",
   "execution_count": 13,
   "metadata": {},
   "outputs": [],
   "source": [
    "mapper = {\"CASTER\": \"Caster\",\n",
    "          \"MEDIC\" : \"Medic\",\n",
    "          \"PIONEER\" : \"Vanguard\",\n",
    "          \"SNIPER\": \"Sniper\",\n",
    "          \"SPECIAL\" : \"Specialist\",\n",
    "          \"SUPPORT\" : \"Supporter\",\n",
    "          \"TANK\" : \"Defender\",\n",
    "          \"WARRIOR\" : \"Guard\",\n",
    "          \"TOKEN\" : \"Summoned Unit\",\n",
    "          \"TRAP\" : \"Obstacle\"}"
   ]
  },
  {
   "cell_type": "code",
   "execution_count": 14,
   "metadata": {},
   "outputs": [
    {
     "data": {
      "text/plain": [
       "'WARRIOR'"
      ]
     },
     "execution_count": 14,
     "metadata": {},
     "output_type": "execute_result"
    }
   ],
   "source": [
    "test_unit[\"profession\"]"
   ]
  },
  {
   "cell_type": "code",
   "execution_count": 15,
   "metadata": {},
   "outputs": [
    {
     "data": {
      "text/plain": [
       "['DPS', 'Support']"
      ]
     },
     "execution_count": 15,
     "metadata": {},
     "output_type": "execute_result"
    }
   ],
   "source": [
    "test_unit[\"tagList\"]"
   ]
  },
  {
   "cell_type": "code",
   "execution_count": 16,
   "metadata": {},
   "outputs": [
    {
     "data": {
      "text/plain": [
       "'Can launch Ranged Attacks that deal 80% of normal ATK'"
      ]
     },
     "execution_count": 16,
     "metadata": {},
     "output_type": "execute_result"
    }
   ],
   "source": [
    "pattern = re.compile(r'<[^>]*>')\n",
    "\n",
    "pattern.sub(\"\",test_unit[\"description\"])"
   ]
  },
  {
   "cell_type": "code",
   "execution_count": 17,
   "metadata": {},
   "outputs": [
    {
     "data": {
      "text/plain": [
       "6"
      ]
     },
     "execution_count": 17,
     "metadata": {},
     "output_type": "execute_result"
    }
   ],
   "source": [
    "test_unit[\"rarity\"] + 1"
   ]
  },
  {
   "cell_type": "code",
   "execution_count": 18,
   "metadata": {},
   "outputs": [],
   "source": [
    " talent_list = test_unit[\"talents\"]"
   ]
  },
  {
   "cell_type": "code",
   "execution_count": 23,
   "metadata": {},
   "outputs": [
    {
     "data": {
      "text/plain": [
       "[{'Leader': \"ATK +10%; All allies' Redeployment Time -10%\"},\n",
       " {'Eagle Eyes': 'Reveals invisible enemies within range'}]"
      ]
     },
     "execution_count": 23,
     "metadata": {},
     "output_type": "execute_result"
    }
   ],
   "source": [
    "[{talent[\"name\"] : talent[\"description\"] for talent in talents[\"candidates\"] if talent[\"requiredPotentialRank\"] == 0} for talents in talent_list]"
   ]
  },
  {
   "cell_type": "code",
   "execution_count": null,
   "metadata": {},
   "outputs": [],
   "source": [
    "talents"
   ]
  },
  {
   "cell_type": "code",
   "execution_count": 24,
   "metadata": {},
   "outputs": [
    {
     "data": {
      "text/plain": [
       "107"
      ]
     },
     "execution_count": 24,
     "metadata": {},
     "output_type": "execute_result"
    }
   ],
   "source": [
    "len(data.keys())"
   ]
  },
  {
   "cell_type": "code",
   "execution_count": null,
   "metadata": {},
   "outputs": [],
   "source": []
  }
 ],
 "metadata": {
  "kernelspec": {
   "display_name": "Python 3",
   "language": "python",
   "name": "python3"
  },
  "language_info": {
   "codemirror_mode": {
    "name": "ipython",
    "version": 3
   },
   "file_extension": ".py",
   "mimetype": "text/x-python",
   "name": "python",
   "nbconvert_exporter": "python",
   "pygments_lexer": "ipython3",
   "version": "3.8.2"
  }
 },
 "nbformat": 4,
 "nbformat_minor": 4
}
