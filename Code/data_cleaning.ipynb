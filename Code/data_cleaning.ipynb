{
 "cells": [
  {
   "cell_type": "markdown",
   "metadata": {},
   "source": [
    "# Data Cleaning"
   ]
  },
  {
   "cell_type": "markdown",
   "metadata": {},
   "source": [
    "## Imports"
   ]
  },
  {
   "cell_type": "code",
   "execution_count": 90,
   "metadata": {},
   "outputs": [],
   "source": [
    "import json\n",
    "from pprint import pp\n",
    "from functools import reduce\n",
    "import re"
   ]
  },
  {
   "cell_type": "markdown",
   "metadata": {},
   "source": [
    "### Read-in"
   ]
  },
  {
   "cell_type": "code",
   "execution_count": 91,
   "metadata": {},
   "outputs": [],
   "source": [
    "with open('../Data/character_table.json', errors='ignore') as f:\n",
    "    data = json.load(f)\n",
    "    \n",
    "with open('../Data/skill_table.json', encoding=\"utf-8\", errors='ignore') as f:\n",
    "    skill_data = json.load(f)"
   ]
  },
  {
   "cell_type": "markdown",
   "metadata": {},
   "source": [
    "## Transform"
   ]
  },
  {
   "cell_type": "code",
   "execution_count": 92,
   "metadata": {},
   "outputs": [],
   "source": [
    "cleaned_data = {}\n",
    "mapper = {\"CASTER\": \"Caster\",\n",
    "          \"MEDIC\" : \"Medic\",\n",
    "          \"PIONEER\" : \"Vanguard\",\n",
    "          \"SNIPER\": \"Sniper\",\n",
    "          \"SPECIAL\" : \"Specialist\",\n",
    "          \"SUPPORT\" : \"Supporter\",\n",
    "          \"TANK\" : \"Defender\",\n",
    "          \"WARRIOR\" : \"Guard\",\n",
    "          \"TOKEN\" : \"Summoned Unit\",\n",
    "          \"TRAP\" : \"Obstacle\"}\n",
    "\n",
    "replace_dict = {\n",
    "    \"atk\" : \"ATK\",\n",
    "    \"def\" : \"DEF\",\n",
    "    \"max hp\" : \"Max HP\",\n",
    "    \"hp\" : \"HP\",\n",
    "    \"block\" : \"Block\",\n",
    "    \"range\" : \"Range\"\n",
    "}\n",
    "\n",
    "pattern = re.compile(r'<[^>]*>')"
   ]
  },
  {
   "cell_type": "code",
   "execution_count": 93,
   "metadata": {},
   "outputs": [],
   "source": [
    "def get_name(unit):\n",
    "    return unit[\"name\"]"
   ]
  },
  {
   "cell_type": "code",
   "execution_count": 94,
   "metadata": {},
   "outputs": [],
   "source": [
    "def get_class(unit):\n",
    "    return mapper[unit[\"profession\"]]"
   ]
  },
  {
   "cell_type": "code",
   "execution_count": 95,
   "metadata": {},
   "outputs": [],
   "source": [
    "def get_tags(unit):\n",
    "    return unit[\"tagList\"]"
   ]
  },
  {
   "cell_type": "code",
   "execution_count": 96,
   "metadata": {},
   "outputs": [],
   "source": [
    "def get_trait(unit):\n",
    "    if unit[\"description\"]:\n",
    "        return pattern.sub(\"\",unit[\"description\"])\n",
    "    else:\n",
    "        return None"
   ]
  },
  {
   "cell_type": "code",
   "execution_count": 97,
   "metadata": {},
   "outputs": [],
   "source": [
    "def get_rarity(unit):\n",
    "    return unit[\"rarity\"] + 1"
   ]
  },
  {
   "cell_type": "code",
   "execution_count": 98,
   "metadata": {},
   "outputs": [],
   "source": [
    "def get_talents(unit):\n",
    "    talent_list = unit[\"talents\"]\n",
    "    try:\n",
    "        return [{talent[\"name\"] : talent[\"description\"] for talent in talents[\"candidates\"] if talent[\"requiredPotentialRank\"] == 0} for talents in talent_list]\n",
    "    except TypeError:\n",
    "        return None"
   ]
  },
  {
   "cell_type": "code",
   "execution_count": 99,
   "metadata": {},
   "outputs": [],
   "source": [
    "cleaned_data = {}\n",
    "for key, unit in data.items():\n",
    "    cleaned_data[get_name(unit)] = {\n",
    "        \"rarity\" : get_rarity(unit),\n",
    "        \"class\" : get_class(unit),\n",
    "        \"tags\" : get_tags(unit),\n",
    "        \"trait\" : get_trait(unit),\n",
    "        \"talents\" : get_talents(unit),\n",
    "        \"internal_id\" : key\n",
    "    }"
   ]
  },
  {
   "cell_type": "code",
   "execution_count": 100,
   "metadata": {},
   "outputs": [],
   "source": [
    "skills = [skill[\"skillId\"] for skill in data[key][\"skills\"]]"
   ]
  },
  {
   "cell_type": "code",
   "execution_count": 113,
   "metadata": {},
   "outputs": [
    {
     "name": "stdout",
     "output_type": "stream",
     "text": [
      "{'Swift Strike γ': 'Atk +20%; aspd +20.0'}\n",
      "{'Wave Strike': 'Atk +80% for 15.0 seconds after Skadi is deployed'}\n",
      "{'Tidal Elegy': 'Atk, DEF and Max HP +70%'}\n"
     ]
    }
   ],
   "source": [
    "for skill in skills:\n",
    "    name = skill_data[skill][\"levels\"][0][\"name\"]\n",
    "    bb = { row[\"key\"] : row[\"value\"] for row in skill_data[skill][\"levels\"][0][\"blackboard\"]}\n",
    "    skill_text = skill_data[skill][\"levels\"][0][\"description\"]\n",
    "    skill_text = reduce(lambda x,y: x.replace(y, replace_dict[y]), replace_dict, pattern.sub(\"\",skill_text.lower().replace(\":0%\",\":.0%\").format(**bb)).capitalize())\n",
    "    unit_name = get_name(unit)\n",
    "    print({name : skill_text.replace(unit_name.lower(),unit_name)})"
   ]
  },
  {
   "cell_type": "code",
   "execution_count": 102,
   "metadata": {},
   "outputs": [
    {
     "data": {
      "text/plain": [
       "{'name': 'Tidal Elegy',\n",
       " 'rangeId': None,\n",
       " 'description': 'ATK, DEF and Max HP <@ba.vup>+{atk:0%}</>',\n",
       " 'skillType': 1,\n",
       " 'spData': {'spType': 1,\n",
       "  'levelUpCost': None,\n",
       "  'maxChargeTime': 1,\n",
       "  'spCost': 90,\n",
       "  'initSp': 50,\n",
       "  'increment': 1.0},\n",
       " 'prefabId': 'skchr_skadi_3',\n",
       " 'duration': 35.0,\n",
       " 'blackboard': [{'key': 'atk', 'value': 0.7},\n",
       "  {'key': 'def', 'value': 0.7},\n",
       "  {'key': 'max_hp', 'value': 0.7}]}"
      ]
     },
     "execution_count": 102,
     "metadata": {},
     "output_type": "execute_result"
    }
   ],
   "source": [
    "skill_data[\"skchr_skadi_3\"][\"levels\"][0]"
   ]
  },
  {
   "cell_type": "code",
   "execution_count": 103,
   "metadata": {},
   "outputs": [
    {
     "data": {
      "text/plain": [
       "{'name': 'Rules of Survival',\n",
       " 'rangeId': '1-2',\n",
       " 'description': '<@ba.rem>Can switch between the original state and the following state:</>\\nRange <@ba.vdown>reduces</>; DEF <@ba.vup>+{def:0%}</>; Restores HP by <@ba.vup>{HP_RECOVERY_PER_SEC_BY_MAX_HP_RATIO:0.0%}</> of Max HP per second',\n",
       " 'skillType': 1,\n",
       " 'spData': {'spType': 1,\n",
       "  'levelUpCost': None,\n",
       "  'maxChargeTime': 1,\n",
       "  'spCost': 5,\n",
       "  'initSp': 0,\n",
       "  'increment': 1.0},\n",
       " 'prefabId': 'skchr_svrash_2',\n",
       " 'duration': 0.0,\n",
       " 'blackboard': [{'key': 'def', 'value': 0.35},\n",
       "  {'key': 'hp_recovery_per_sec_by_max_hp_ratio', 'value': 0.03}]}"
      ]
     },
     "execution_count": 103,
     "metadata": {},
     "output_type": "execute_result"
    }
   ],
   "source": [
    "skill_data[\"skchr_svrash_2\"][\"levels\"][0]"
   ]
  },
  {
   "cell_type": "code",
   "execution_count": 104,
   "metadata": {},
   "outputs": [],
   "source": [
    "skill_text = skill_data[\"skchr_svrash_2\"][\"levels\"][0][\"description\"]"
   ]
  },
  {
   "cell_type": "code",
   "execution_count": 105,
   "metadata": {},
   "outputs": [
    {
     "data": {
      "text/plain": [
       "[{'key': 'def', 'value': 0.35},\n",
       " {'key': 'hp_recovery_per_sec_by_max_hp_ratio', 'value': 0.03}]"
      ]
     },
     "execution_count": 105,
     "metadata": {},
     "output_type": "execute_result"
    }
   ],
   "source": [
    "skill_data[\"skchr_svrash_2\"][\"levels\"][0][\"blackboard\"]"
   ]
  },
  {
   "cell_type": "code",
   "execution_count": 106,
   "metadata": {},
   "outputs": [],
   "source": [
    "bb = { row[\"key\"] : row[\"value\"] for row in skill_data[\"skchr_svrash_2\"][\"levels\"][0][\"blackboard\"]}"
   ]
  },
  {
   "cell_type": "code",
   "execution_count": 107,
   "metadata": {},
   "outputs": [
    {
     "data": {
      "text/plain": [
       "'Can switch between the original state and the following state:\\nRange reduces; DEF +35%; restores HP by 3% of Max HP per second'"
      ]
     },
     "execution_count": 107,
     "metadata": {},
     "output_type": "execute_result"
    }
   ],
   "source": [
    "reduce(lambda x,y: x.replace(y, replace_dict[y]), replace_dict, pattern.sub(\"\",skill_text.lower().replace(\":0%\",\":.0%\").format(**bb)).capitalize())"
   ]
  },
  {
   "cell_type": "markdown",
   "metadata": {},
   "source": [
    "## Load"
   ]
  },
  {
   "cell_type": "code",
   "execution_count": 108,
   "metadata": {},
   "outputs": [],
   "source": [
    "with open('../Data/cleaned_characters.json', 'w') as f:\n",
    "    json.dump(cleaned_data, f)"
   ]
  }
 ],
 "metadata": {
  "kernelspec": {
   "display_name": "Python 3",
   "language": "python",
   "name": "python3"
  },
  "language_info": {
   "codemirror_mode": {
    "name": "ipython",
    "version": 3
   },
   "file_extension": ".py",
   "mimetype": "text/x-python",
   "name": "python",
   "nbconvert_exporter": "python",
   "pygments_lexer": "ipython3",
   "version": "3.8.2"
  }
 },
 "nbformat": 4,
 "nbformat_minor": 4
}
