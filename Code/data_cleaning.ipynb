{
 "cells": [
  {
   "cell_type": "markdown",
   "metadata": {},
   "source": [
    "# Data Cleaning"
   ]
  },
  {
   "cell_type": "markdown",
   "metadata": {},
   "source": [
    "## Imports"
   ]
  },
  {
   "cell_type": "code",
   "execution_count": 1,
   "metadata": {},
   "outputs": [],
   "source": [
    "import json\n",
    "from pprint import pp\n",
    "import re"
   ]
  },
  {
   "cell_type": "markdown",
   "metadata": {},
   "source": [
    "### Read-in"
   ]
  },
  {
   "cell_type": "code",
   "execution_count": 2,
   "metadata": {},
   "outputs": [],
   "source": [
    "with open('../Data/character_table.json', errors='ignore') as f:\n",
    "    data = json.load(f)"
   ]
  },
  {
   "cell_type": "markdown",
   "metadata": {},
   "source": [
    "## Transform"
   ]
  },
  {
   "cell_type": "code",
   "execution_count": 3,
   "metadata": {},
   "outputs": [],
   "source": [
    "cleaned_data = {}\n",
    "mapper = {\"CASTER\": \"Caster\",\n",
    "          \"MEDIC\" : \"Medic\",\n",
    "          \"PIONEER\" : \"Vanguard\",\n",
    "          \"SNIPER\": \"Sniper\",\n",
    "          \"SPECIAL\" : \"Specialist\",\n",
    "          \"SUPPORT\" : \"Supporter\",\n",
    "          \"TANK\" : \"Defender\",\n",
    "          \"WARRIOR\" : \"Guard\",\n",
    "          \"TOKEN\" : \"Summoned Unit\",\n",
    "          \"TRAP\" : \"Obstacle\"}\n",
    "pattern = re.compile(r'<[^>]*>')"
   ]
  },
  {
   "cell_type": "code",
   "execution_count": 4,
   "metadata": {},
   "outputs": [],
   "source": [
    "def get_name(unit):\n",
    "    return unit[\"name\"]"
   ]
  },
  {
   "cell_type": "code",
   "execution_count": 5,
   "metadata": {},
   "outputs": [],
   "source": [
    "def get_class(unit):\n",
    "    return mapper[unit[\"profession\"]]"
   ]
  },
  {
   "cell_type": "code",
   "execution_count": 6,
   "metadata": {},
   "outputs": [],
   "source": [
    "def get_tags(unit):\n",
    "    return unit[\"tagList\"]"
   ]
  },
  {
   "cell_type": "code",
   "execution_count": 26,
   "metadata": {},
   "outputs": [],
   "source": [
    "def get_trait(unit):\n",
    "    if unit[\"description\"]:\n",
    "        return pattern.sub(\"\",unit[\"description\"])\n",
    "    else:\n",
    "        return None"
   ]
  },
  {
   "cell_type": "code",
   "execution_count": 13,
   "metadata": {},
   "outputs": [],
   "source": [
    "def get_rarity(unit):\n",
    "    return unit[\"rarity\"] + 1"
   ]
  },
  {
   "cell_type": "code",
   "execution_count": 35,
   "metadata": {},
   "outputs": [],
   "source": [
    "def get_talents(unit):\n",
    "    talent_list = unit[\"talents\"]\n",
    "    try:\n",
    "        return [{talent[\"name\"] : talent[\"description\"] for talent in talents[\"candidates\"] if talent[\"requiredPotentialRank\"] == 0} for talents in talent_list]\n",
    "    except TypeError:\n",
    "        return None"
   ]
  },
  {
   "cell_type": "code",
   "execution_count": 36,
   "metadata": {},
   "outputs": [],
   "source": [
    "cleaned_data = {}\n",
    "for unit in data.values():\n",
    "    cleaned_data[get_name(unit)] = {\n",
    "        \"rarity\" : get_rarity(unit),\n",
    "        \"class\" : get_class(unit),\n",
    "        \"tags\" : get_tags(unit),\n",
    "        \"trait\" : get_trait(unit),\n",
    "        \"talents\" : get_talents(unit)\n",
    "    }"
   ]
  },
  {
   "cell_type": "code",
   "execution_count": 37,
   "metadata": {},
   "outputs": [
    {
     "data": {
      "text/plain": [
       "dict_keys(['Lancet-2', 'Castle-3', 'Yato', 'Noir Corne', 'Rangers', 'Durin', '12F', 'Fang', 'Vanilla', 'Plume', 'Melantha', 'Popukar', 'Cardigan', 'Beagle', 'Spot', 'Kroos', 'Adnachiel', 'Lava', 'Hibiscus', 'Ansel', 'Steward', 'Orchid', 'Haze', 'Gitano', 'Greyy', 'Jessica', 'Meteor', 'Shirayuki', 'Courier', 'Scavenger', 'Vigna', 'Dobermann', 'Matoimaru', 'Frostleaf', 'Estelle', 'Mousse', 'Gravel', 'Rope', 'Myrrh', 'Gavial', 'Perfumer', 'Matterhorn', 'Cuora', 'Gummy', 'Deepcolor', 'Earthspirit', 'Shaw', 'Ptilopsis', 'Zima', 'Texas', 'Swire', 'Franka', 'Indra', 'Lappland', 'Specter', 'Blue Poison', 'Platinum', 'Meteorite', 'Amiya', 'Skyfire', 'Mayer', 'Silence', 'Warfarin', 'Nearl', 'Projekt Red', 'Liskarm', 'Croissant', 'Vulcan', 'Provence', 'Firewatch', 'Cliffheart', 'Pramanix', 'Istina', 'Sora', 'Manticore', 'FEater', 'Exusiai', 'Siege', 'Ifrit', 'Eyjafjalla', 'Angelina', 'Shining', 'Nightingale', 'Hoshiguma', 'Saria', 'SilverAsh', \"Ch'en\", 'Medic Drone', 'Tentacle', 'Mirage', 'Robotter', 'Soaring Dragon F', 'Soaring Dragon L', 'Soaring Dragon A', 'Roadblock', 'Stun Generator', 'Gate', 'Detector', 'Jammer', 'Turret', 'Savage', 'Catapult', 'Midnight', 'Beehunter', 'Nightmare', 'Grani', 'Skadi'])"
      ]
     },
     "execution_count": 37,
     "metadata": {},
     "output_type": "execute_result"
    }
   ],
   "source": [
    "cleaned_data.keys()"
   ]
  },
  {
   "cell_type": "markdown",
   "metadata": {},
   "source": [
    "## Load"
   ]
  },
  {
   "cell_type": "code",
   "execution_count": 38,
   "metadata": {},
   "outputs": [],
   "source": [
    "with open('../Data/cleaned_characters.json', 'w') as f:\n",
    "    json.dump(cleaned_data, f)"
   ]
  },
  {
   "cell_type": "code",
   "execution_count": null,
   "metadata": {},
   "outputs": [],
   "source": []
  }
 ],
 "metadata": {
  "kernelspec": {
   "display_name": "Python 3",
   "language": "python",
   "name": "python3"
  },
  "language_info": {
   "codemirror_mode": {
    "name": "ipython",
    "version": 3
   },
   "file_extension": ".py",
   "mimetype": "text/x-python",
   "name": "python",
   "nbconvert_exporter": "python",
   "pygments_lexer": "ipython3",
   "version": "3.8.2"
  }
 },
 "nbformat": 4,
 "nbformat_minor": 4
}
