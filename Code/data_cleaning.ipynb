{
 "cells": [
  {
   "cell_type": "markdown",
   "metadata": {},
   "source": [
    "# Data Cleaning"
   ]
  },
  {
   "cell_type": "markdown",
   "metadata": {},
   "source": [
    "## Imports"
   ]
  },
  {
   "cell_type": "code",
   "execution_count": 1,
   "metadata": {},
   "outputs": [],
   "source": [
    "import json\n",
    "from pprint import pp\n",
    "from functools import reduce\n",
    "import re"
   ]
  },
  {
   "cell_type": "markdown",
   "metadata": {},
   "source": [
    "### Read-in"
   ]
  },
  {
   "cell_type": "code",
   "execution_count": 2,
   "metadata": {},
   "outputs": [],
   "source": [
    "with open('../Data/character_table.json', encoding=\"utf-8\") as f:\n",
    "    data = json.load(f)\n",
    "    \n",
    "with open('../Data/skill_table.json', encoding=\"utf-8\") as f:\n",
    "    skill_data = json.load(f)"
   ]
  },
  {
   "cell_type": "markdown",
   "metadata": {},
   "source": [
    "## Transform"
   ]
  },
  {
   "cell_type": "code",
   "execution_count": 3,
   "metadata": {},
   "outputs": [],
   "source": [
    "cleaned_data = {}\n",
    "mapper = {\"CASTER\": \"Caster\",\n",
    "          \"MEDIC\" : \"Medic\",\n",
    "          \"PIONEER\" : \"Vanguard\",\n",
    "          \"SNIPER\": \"Sniper\",\n",
    "          \"SPECIAL\" : \"Specialist\",\n",
    "          \"SUPPORT\" : \"Supporter\",\n",
    "          \"TANK\" : \"Defender\",\n",
    "          \"WARRIOR\" : \"Guard\",\n",
    "          \"TOKEN\" : \"Summoned Unit\",\n",
    "          \"TRAP\" : \"Obstacle\"}\n",
    "\n",
    "replace_dict = {\n",
    "    \"atk\" : \"ATK\",\n",
    "    \"def\" : \"DEF\",\n",
    "    \"max hp\" : \"Max HP\",\n",
    "    \"hp\" : \"HP\",\n",
    "    \"block\" : \"Block\",\n",
    "    \"range\" : \"Range\"\n",
    "}\n",
    "\n",
    "pattern = re.compile(r'<[^>]*>')"
   ]
  },
  {
   "cell_type": "code",
   "execution_count": 4,
   "metadata": {},
   "outputs": [],
   "source": [
    "def get_name(unit):\n",
    "    return unit[\"name\"]"
   ]
  },
  {
   "cell_type": "code",
   "execution_count": 5,
   "metadata": {},
   "outputs": [],
   "source": [
    "def get_class(unit):\n",
    "    return mapper[unit[\"profession\"]]"
   ]
  },
  {
   "cell_type": "code",
   "execution_count": 6,
   "metadata": {},
   "outputs": [],
   "source": [
    "def get_tags(unit):\n",
    "    return unit[\"tagList\"]"
   ]
  },
  {
   "cell_type": "code",
   "execution_count": 7,
   "metadata": {},
   "outputs": [],
   "source": [
    "def get_trait(unit):\n",
    "    if unit[\"description\"]:\n",
    "        return pattern.sub(\"\",unit[\"description\"])\n",
    "    else:\n",
    "        return None"
   ]
  },
  {
   "cell_type": "code",
   "execution_count": 8,
   "metadata": {},
   "outputs": [],
   "source": [
    "def get_rarity(unit):\n",
    "    return unit[\"rarity\"] + 1"
   ]
  },
  {
   "cell_type": "code",
   "execution_count": 9,
   "metadata": {},
   "outputs": [],
   "source": [
    "def get_talents(unit):\n",
    "    talent_list = unit[\"talents\"]\n",
    "    try:\n",
    "        return [{talent[\"name\"] : talent[\"description\"] for talent in talents[\"candidates\"] if talent[\"requiredPotentialRank\"] == 0} for talents in talent_list]\n",
    "    except TypeError:\n",
    "        return None"
   ]
  },
  {
   "cell_type": "code",
   "execution_count": 65,
   "metadata": {},
   "outputs": [],
   "source": [
    " def get_skills(unit):\n",
    "    skill_list = []\n",
    "    skills = [skill[\"skillId\"] for skill in unit[\"skills\"]]\n",
    "    try:\n",
    "        for i, skill in enumerate(skills):\n",
    "            name = skill_data[skill][\"levels\"][0][\"name\"]\n",
    "            bb = { row[\"key\"] : row[\"value\"] for row in skill_data[skill][\"levels\"][0][\"blackboard\"]}\n",
    "            skill_text = skill_data[skill][\"levels\"][0][\"description\"].replace(\"-\",\"\")\n",
    "    #         print(skill_text)\n",
    "    #         print(bb)\n",
    "            try:\n",
    "                skill_text = reduce(lambda x,y: x.replace(y, replace_dict[y]), replace_dict, pattern.sub(\"\",skill_text.lower().replace(\":0%\",\":.0%\").format(**bb)).capitalize())\n",
    "            except KeyError:\n",
    "                print(f\"{get_name(unit)} Skill {i+1} was not successful\")\n",
    "                skill_text = skill_text\n",
    "            unit_name = get_name(unit)\n",
    "            skill_list.append({name : skill_text.replace(unit_name.lower(),unit_name)})\n",
    "        return skill_list\n",
    "    except KeyError:\n",
    "        return None"
   ]
  },
  {
   "cell_type": "code",
   "execution_count": 66,
   "metadata": {},
   "outputs": [
    {
     "name": "stdout",
     "output_type": "stream",
     "text": [
      "Courier Skill 2 was not successful\n",
      "Mousse Skill 1 was not successful\n",
      "Eyjafjalla Skill 1 was not successful\n",
      "Saria Skill 3 was not successful\n"
     ]
    }
   ],
   "source": [
    "cleaned_data = {}\n",
    "for key, unit in data.items():\n",
    "    cleaned_data[get_name(unit)] = {\n",
    "        \"rarity\" : get_rarity(unit),\n",
    "        \"class\" : get_class(unit),\n",
    "        \"tags\" : get_tags(unit),\n",
    "        \"trait\" : get_trait(unit),\n",
    "        \"talents\" : get_talents(unit),\n",
    "        \"skills\" : get_skills(unit),\n",
    "        \"internal_id\" : key\n",
    "    }"
   ]
  },
  {
   "cell_type": "code",
   "execution_count": 62,
   "metadata": {},
   "outputs": [
    {
     "data": {
      "text/plain": [
       "{'rarity': 4,\n",
       " 'class': 'Vanguard',\n",
       " 'tags': ['DP-Recovery', 'Defense'],\n",
       " 'trait': 'Blocks 2 enemies',\n",
       " 'talents': [{'Karlan Patrol': 'DEF +16% when two or more enemies are blocked'}],\n",
       " 'skills': [{'Charge β': 'Instantly gains 9.0 deployment points.'},\n",
       "  {'Command - Defense': 'Immediately gains <@ba.vup>{blackd_s_2[once].cost}</> Deployment Points\\nGradually obtains <@ba.vup>{blackd_s_2[period].trig_cnt}</> DP during the skill duration; DEF <@ba.vup>+{blackd_s_2[period].def:0%}</>'}],\n",
       " 'internal_id': 'char_198_blackd'}"
      ]
     },
     "execution_count": 62,
     "metadata": {},
     "output_type": "execute_result"
    }
   ],
   "source": [
    "cleaned_data[\"Courier\"]"
   ]
  },
  {
   "cell_type": "code",
   "execution_count": 67,
   "metadata": {},
   "outputs": [
    {
     "data": {
      "text/plain": [
       "{'rarity': 4,\n",
       " 'class': 'Guard',\n",
       " 'tags': ['DPS'],\n",
       " 'trait': 'Deals Arts Damage',\n",
       " 'talents': [{'Combo': 'Has a 20% chance to attack twice in a row when attacking'}],\n",
       " 'skills': [{'Scratch': \"ATK <@ba.vup>+{atk:0%}</> for the next hit; The target's ATK <@ba.vup>{frncat_s_1[debuff].atk:0%}</> for <@ba.vup>{frncat_s_1[debuff].duration}</> seconds\"},\n",
       "  {'Fury': 'Atk and DEF +27%'}],\n",
       " 'internal_id': 'char_185_frncat'}"
      ]
     },
     "execution_count": 67,
     "metadata": {},
     "output_type": "execute_result"
    }
   ],
   "source": [
    "cleaned_data[\"Mousse\"]"
   ]
  },
  {
   "cell_type": "code",
   "execution_count": 68,
   "metadata": {},
   "outputs": [
    {
     "data": {
      "text/plain": [
       "{'rarity': 6,\n",
       " 'class': 'Caster',\n",
       " 'tags': ['DPS', 'Debuff'],\n",
       " 'trait': 'Deals Arts Damage',\n",
       " 'talents': [{'Pyrobreath': \"All [Caster] Operators' ATK +14% when Eyjafjalla is deployed\"},\n",
       "  {'Wild Fire': 'Immediately obtains a small random number of Skill Points after deployment'}],\n",
       " 'skills': [{'Duetto': 'ASPD <@ba.vup>+{amgoat_s_1[a].attack_speed}</>\\nStarting from the second use of the skill, ATK <@ba.vup>+{amgoat_s_1[b].atk:0%}</>'},\n",
       "  {'Ignition': 'Deals 240% of ATK arts damage in the next attack; deals half damage to enemies around the target and their res -10% for 6.0 seconds\\ncan store 1.0 charge(s)'},\n",
       "  {'Volcano': 'Atk +55%; Range increases; attack interval reduces significantly; attack becomes randomly shooting lava that can hit at most 3.0 enemies within Range'}],\n",
       " 'internal_id': 'char_180_amgoat'}"
      ]
     },
     "execution_count": 68,
     "metadata": {},
     "output_type": "execute_result"
    }
   ],
   "source": [
    "cleaned_data[\"Eyjafjalla\"]"
   ]
  },
  {
   "cell_type": "code",
   "execution_count": 69,
   "metadata": {},
   "outputs": [
    {
     "data": {
      "text/plain": [
       "{'rarity': 6,\n",
       " 'class': 'Defender',\n",
       " 'tags': ['Defense', 'Healing', 'Support'],\n",
       " 'trait': 'Can heal allies by using the skill',\n",
       " 'talents': [{'Rhine Charged Suit': 'For every 20 seconds Saria is deployed, ATK +5% and DEF +4%, stacking up to 5 times'},\n",
       "  {'Refreshment': \"When Saria restores an ally's HP, she also restores 1 extra Skill Point to them\"}],\n",
       " 'skills': [{'First Aid': \"Restores the HP of a nearby ally with less than 50% HP by 110% of the operator's ATK in the next attack\\ncan store 1.0 charge(s)\"},\n",
       "  {'Medicine Dispensing': \"Restores the HP of all allies within a certain Range by 80% of Saria's ATK\"},\n",
       "  {'Calcification': \"Restores the HP of all nearby allies by <@ba.vup>{attack@heal_scale:0%}</> of Saria's ATK\\nThe Arts damage taken by nearby enemies <@ba.vup>+{fake.b:0%}</> and their Movement Speed <@ba.vup>{demkni_s_3.move_speed:0%}</>\"}],\n",
       " 'internal_id': 'char_202_demkni'}"
      ]
     },
     "execution_count": 69,
     "metadata": {},
     "output_type": "execute_result"
    }
   ],
   "source": [
    "cleaned_data[\"Saria\"]"
   ]
  },
  {
   "cell_type": "markdown",
   "metadata": {},
   "source": [
    "## Load"
   ]
  },
  {
   "cell_type": "code",
   "execution_count": 19,
   "metadata": {},
   "outputs": [],
   "source": [
    "with open('../Data/cleaned_characters.json', 'w') as f:\n",
    "    json.dump(cleaned_data, f)"
   ]
  }
 ],
 "metadata": {
  "kernelspec": {
   "display_name": "Python 3",
   "language": "python",
   "name": "python3"
  },
  "language_info": {
   "codemirror_mode": {
    "name": "ipython",
    "version": 3
   },
   "file_extension": ".py",
   "mimetype": "text/x-python",
   "name": "python",
   "nbconvert_exporter": "python",
   "pygments_lexer": "ipython3",
   "version": "3.8.2"
  }
 },
 "nbformat": 4,
 "nbformat_minor": 4
}
