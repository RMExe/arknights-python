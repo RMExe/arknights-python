{
 "cells": [
  {
   "cell_type": "markdown",
   "metadata": {},
   "source": [
    "# Discord Embed"
   ]
  },
  {
   "cell_type": "markdown",
   "metadata": {},
   "source": [
    "## Imports"
   ]
  },
  {
   "cell_type": "code",
   "execution_count": 1,
   "metadata": {},
   "outputs": [],
   "source": [
    "import json\n",
    "import discord\n",
    "from fuzzywuzzy.process import extractOne"
   ]
  },
  {
   "cell_type": "markdown",
   "metadata": {},
   "source": [
    "### Read-in"
   ]
  },
  {
   "cell_type": "code",
   "execution_count": 2,
   "metadata": {},
   "outputs": [],
   "source": [
    "with open(\"../Data/cleaned_characters.json\", encoding=\"UTF-8\") as f:\n",
    "    data = json.load(f)"
   ]
  },
  {
   "cell_type": "code",
   "execution_count": 3,
   "metadata": {},
   "outputs": [],
   "source": [
    "operators = list(filter(lambda x: x not in ['Medic Drone', 'Tentacle', 'Mirage', 'Roadblock', 'Stun Generator', 'Gate', 'Detector', 'Jammer', 'Turret'], data.keys()))"
   ]
  },
  {
   "cell_type": "code",
   "execution_count": 4,
   "metadata": {},
   "outputs": [],
   "source": [
    "cyrillic = {\n",
    "    \"Зима\" : \"Zima\",\n",
    "    \"Гум\" : \"Gummy\",\n",
    "    \"Истина\" : \"Istina\"\n",
    "}"
   ]
  },
  {
   "cell_type": "markdown",
   "metadata": {},
   "source": [
    "## Transform"
   ]
  },
  {
   "cell_type": "code",
   "execution_count": 5,
   "metadata": {},
   "outputs": [],
   "source": [
    "def make_fields(unit):\n",
    "    fields = [{\"name\" : \"Trait\", \"value\" : unit[\"trait\"]}] + make_talents(unit) + make_skills(unit)\n",
    "    return fields"
   ]
  },
  {
   "cell_type": "code",
   "execution_count": 6,
   "metadata": {},
   "outputs": [],
   "source": [
    "def make_talents(unit):\n",
    "    return [{\"name\" : key, \"value\" : value} for talent in unit[\"talents\"] for key, value in talent.items()]"
   ]
  },
  {
   "cell_type": "code",
   "execution_count": 7,
   "metadata": {},
   "outputs": [],
   "source": [
    "def make_skills(unit):\n",
    "    return [{\"name\" : key, \"value\" : value, \"inline\" : True} for skill in unit[\"skills\"] for key, value in skill.items()]"
   ]
  },
  {
   "cell_type": "code",
   "execution_count": 8,
   "metadata": {},
   "outputs": [],
   "source": [
    "def build_dict(name, elite=None):\n",
    "    unit = data[name]\n",
    "    url = \"https://aceship.github.io/AN-EN-Tags/akhrchars.html?opname=\"\n",
    "    icon_url = \"https://raw.githubusercontent.com/Aceship/AN-EN-Tags/master/img/classes/class_{}.png\"\n",
    "    av_url = \"https://raw.githubusercontent.com/Aceship/AN-EN-Tags/master/img/avatars/{}.png\"\n",
    "    embed_dict = {\n",
    "        \"title\" : name,\n",
    "        \"description\" : \"★\" * unit[\"rarity\"],\n",
    "        \"url\" : url + name,\n",
    "        \"thumbnail\" : {\n",
    "            \"url\" : av_url.format(unit[\"internal_id\"])\n",
    "        },\n",
    "        \"image\" : {\n",
    "            \"url\" : unit[\"image\"]\n",
    "        },\n",
    "        \"author\" : {\n",
    "            \"name\" : unit[\"class\"],\n",
    "            \"icon_url\" : icon_url.format(unit[\"class\"].lower())\n",
    "        },\n",
    "        \"fields\" : make_fields(unit)\n",
    "    }\n",
    "    \n",
    "    if elite:\n",
    "        #congratulations to amiya for having to do this for her E1 art\n",
    "        if name == \"Amiya\" and elite == 1:\n",
    "            embed_dict[\"image\"][\"url\"] = embed_dict[\"image\"][\"url\"][:-4] + \"+.png\"\n",
    "            embed_dict[\"thumbnail\"][\"url\"] = embed_dict[\"thumbnail\"][\"url\"][:-4] + \"_1+.png\"\n",
    "        elif unit[\"rarity\"] >= 4:\n",
    "            embed_dict[\"image\"][\"url\"] = embed_dict[\"image\"][\"url\"][:-5] + str(elite) + embed_dict[\"image\"][\"url\"][-4:]\n",
    "            embed_dict[\"thumbnail\"][\"url\"] = embed_dict[\"thumbnail\"][\"url\"][:-4] + \"_\" + str(elite) + embed_dict[\"thumbnail\"][\"url\"][-4:]\n",
    "            \n",
    "    return embed_dict"
   ]
  },
  {
   "cell_type": "code",
   "execution_count": 9,
   "metadata": {},
   "outputs": [],
   "source": [
    "def build_arknights_embed(name, elite=None):\n",
    "    return discord.Embed.from_dict(build_dict(name, elite=elite))"
   ]
  },
  {
   "cell_type": "code",
   "execution_count": 10,
   "metadata": {},
   "outputs": [],
   "source": [
    "def arknights(name, elite=None):\n",
    "    if cyrillic.get(name):\n",
    "        name = cyrillic[name]\n",
    "    result = extractOne(name, operators)\n",
    "    embed = build_arknights_embed(result[0], elite=elite)\n",
    "    return embed"
   ]
  }
 ],
 "metadata": {
  "kernelspec": {
   "display_name": "Python 3",
   "language": "python",
   "name": "python3"
  },
  "language_info": {
   "codemirror_mode": {
    "name": "ipython",
    "version": 3
   },
   "file_extension": ".py",
   "mimetype": "text/x-python",
   "name": "python",
   "nbconvert_exporter": "python",
   "pygments_lexer": "ipython3",
   "version": "3.6.5"
  }
 },
 "nbformat": 4,
 "nbformat_minor": 4
}
